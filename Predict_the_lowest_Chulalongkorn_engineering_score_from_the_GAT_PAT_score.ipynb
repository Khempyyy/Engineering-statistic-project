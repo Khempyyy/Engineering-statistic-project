{
  "nbformat": 4,
  "nbformat_minor": 0,
  "metadata": {
    "colab": {
      "provenance": []
    },
    "kernelspec": {
      "display_name": "Python 3",
      "name": "python3"
    },
    "language_info": {
      "name": "python"
    }
  },
  "cells": [
    {
      "cell_type": "markdown",
      "metadata": {
        "id": "h3SbSmwEgq88"
      },
      "source": [
        "# Predict the lowest Chulalongkorn engineering score from the GAT-PAT score"
      ]
    },
    {
      "cell_type": "markdown",
      "source": [
        "จัดทำโดยนักศึกษาชั้นปีที่ 2 คณะวิศวกรรมศาสตร์ สาขาวิศวกรรมไฟฟ้า จุฬาลงกรณ์มหาวิทยาลัย\n",
        "\n",
        "1. เขมกร เชื้อลี 6330041121\n",
        "2. พรพิพัฒน์ พงษ์ศิริ 6330342021\n",
        "3. ประสพโชค รอดศิริ 6330304221\n",
        "\n",
        "และเป็นส่วนหนึ่งของรายวิชา 2102203 Probability and Statistics for Electrical Engineers"
      ],
      "metadata": {
        "id": "44ePMZImEE3n"
      }
    },
    {
      "cell_type": "markdown",
      "source": [
        "### จุดประสงค์\n",
        "ทำนายคะแนนต่ำสุดที่ใช้ในการสอบเข้าคณะวิศวกรรมศาสตร์จุฬาลงกรณ์มหาวิทยาลัยจากข้อมูล\n",
        "จำนวนคนตามช่วงคะแนนของ PAT3, PAT1 และ GAT เพื่อช่วยในการตัดสินใจในการเลือกอันดับ Admission ของนักเรียนมัธยมศึกษาปีที่ 6 ในปีถัดๆ ไป"
      ],
      "metadata": {
        "id": "FanLmmuxFblx"
      }
    },
    {
      "cell_type": "markdown",
      "metadata": {
        "id": "G-QElynJi3Yq"
      },
      "source": [
        "### ไฟล์ข้อมูล Excel\n",
        "Download file data [data](https://docs.google.com/spreadsheets/d/10mS0xaUM4UVwmwFt6awZuBKeTbeVMmtHTWGhutbVvmk/edit?usp=sharing) save as (.xlsx) file. upload file to the folder in left hand side before running this code."
      ]
    },
    {
      "cell_type": "markdown",
      "metadata": {
        "id": "wO7oXU2er8he"
      },
      "source": [
        "## จัดการข้อมูล\n",
        "\n",
        "\n",
        "*   แบ่งข้อมูลเป็นรายวิชาที่ใช้ในการคิดคะแนนสอบเข้าวิศวกรรมศาสตร์จุฬา \n",
        "    *   Pat1, Pat3 และ Gat\n",
        "*   โดยเป็นข้อมูล score distribution ตั้งแต่ปี 2556 - 2564 โดยแบ่งเป็นข้อมูลจำนวนคน ในช่วงคะแนนละ 30 คะแนน ตั้งแต่ 0 - 300 คะแนน"
      ]
    },
    {
      "cell_type": "code",
      "metadata": {
        "id": "cgtaUuLQjEU2"
      },
      "source": [
        "import numpy as np\n",
        "import pandas as pd\n",
        "import scipy"
      ],
      "execution_count": null,
      "outputs": []
    },
    {
      "cell_type": "code",
      "metadata": {
        "id": "O1YGJM6d2-Ts"
      },
      "source": [
        "path =  '/content/vidva_weight.xlsx'\n",
        "df = pd.read_excel(path) \n",
        "\n",
        "gat = pd.read_excel(path, sheet_name='gat').set_index('year')\n",
        "pat1 = pd.read_excel(path, sheet_name='pat1').set_index('year')\n",
        "gat_weight = pd.read_excel(path, sheet_name='gat_weight').set_index('year')\n",
        "pat1_weight = pd.read_excel(path, sheet_name='pat1_weight').set_index('year')\n",
        "pat3 = pd.read_excel(path, sheet_name='pat3').set_index('year')\n",
        "chula_df = pd.read_excel(path, sheet_name='vidva_data').set_index('year')"
      ],
      "execution_count": null,
      "outputs": []
    },
    {
      "cell_type": "code",
      "source": [
        "pat3"
      ],
      "metadata": {
        "colab": {
          "base_uri": "https://localhost:8080/",
          "height": 363
        },
        "id": "HKJSuZJxSa_X",
        "outputId": "9c39097d-6454-4ea4-d791-4719f419bef0"
      },
      "execution_count": null,
      "outputs": [
        {
          "output_type": "execute_result",
          "data": {
            "text/html": [
              "<div>\n",
              "<style scoped>\n",
              "    .dataframe tbody tr th:only-of-type {\n",
              "        vertical-align: middle;\n",
              "    }\n",
              "\n",
              "    .dataframe tbody tr th {\n",
              "        vertical-align: top;\n",
              "    }\n",
              "\n",
              "    .dataframe thead th {\n",
              "        text-align: right;\n",
              "    }\n",
              "</style>\n",
              "<table border=\"1\" class=\"dataframe\">\n",
              "  <thead>\n",
              "    <tr style=\"text-align: right;\">\n",
              "      <th></th>\n",
              "      <th>0-30</th>\n",
              "      <th>30-60</th>\n",
              "      <th>60-90</th>\n",
              "      <th>90-120</th>\n",
              "      <th>120-150</th>\n",
              "      <th>150-180</th>\n",
              "      <th>180-210</th>\n",
              "      <th>210-240</th>\n",
              "      <th>240-270</th>\n",
              "      <th>270-300</th>\n",
              "    </tr>\n",
              "    <tr>\n",
              "      <th>year</th>\n",
              "      <th></th>\n",
              "      <th></th>\n",
              "      <th></th>\n",
              "      <th></th>\n",
              "      <th></th>\n",
              "      <th></th>\n",
              "      <th></th>\n",
              "      <th></th>\n",
              "      <th></th>\n",
              "      <th></th>\n",
              "    </tr>\n",
              "  </thead>\n",
              "  <tbody>\n",
              "    <tr>\n",
              "      <th>64</th>\n",
              "      <td>53</td>\n",
              "      <td>4795</td>\n",
              "      <td>12634</td>\n",
              "      <td>6060</td>\n",
              "      <td>2196</td>\n",
              "      <td>1145</td>\n",
              "      <td>698</td>\n",
              "      <td>338</td>\n",
              "      <td>140</td>\n",
              "      <td>15</td>\n",
              "    </tr>\n",
              "    <tr>\n",
              "      <th>63</th>\n",
              "      <td>22</td>\n",
              "      <td>3084</td>\n",
              "      <td>14273</td>\n",
              "      <td>9341</td>\n",
              "      <td>3381</td>\n",
              "      <td>1567</td>\n",
              "      <td>880</td>\n",
              "      <td>475</td>\n",
              "      <td>114</td>\n",
              "      <td>10</td>\n",
              "    </tr>\n",
              "    <tr>\n",
              "      <th>62</th>\n",
              "      <td>63</td>\n",
              "      <td>5796</td>\n",
              "      <td>15610</td>\n",
              "      <td>7708</td>\n",
              "      <td>2754</td>\n",
              "      <td>1270</td>\n",
              "      <td>730</td>\n",
              "      <td>429</td>\n",
              "      <td>129</td>\n",
              "      <td>4</td>\n",
              "    </tr>\n",
              "    <tr>\n",
              "      <th>61</th>\n",
              "      <td>82</td>\n",
              "      <td>7119</td>\n",
              "      <td>16272</td>\n",
              "      <td>7348</td>\n",
              "      <td>2944</td>\n",
              "      <td>1649</td>\n",
              "      <td>979</td>\n",
              "      <td>582</td>\n",
              "      <td>320</td>\n",
              "      <td>52</td>\n",
              "    </tr>\n",
              "    <tr>\n",
              "      <th>60</th>\n",
              "      <td>28</td>\n",
              "      <td>4806</td>\n",
              "      <td>22046</td>\n",
              "      <td>15502</td>\n",
              "      <td>4665</td>\n",
              "      <td>1858</td>\n",
              "      <td>932</td>\n",
              "      <td>563</td>\n",
              "      <td>199</td>\n",
              "      <td>24</td>\n",
              "    </tr>\n",
              "    <tr>\n",
              "      <th>59</th>\n",
              "      <td>169</td>\n",
              "      <td>14904</td>\n",
              "      <td>28379</td>\n",
              "      <td>9171</td>\n",
              "      <td>2816</td>\n",
              "      <td>1340</td>\n",
              "      <td>683</td>\n",
              "      <td>330</td>\n",
              "      <td>82</td>\n",
              "      <td>5</td>\n",
              "    </tr>\n",
              "    <tr>\n",
              "      <th>58</th>\n",
              "      <td>57</td>\n",
              "      <td>7943</td>\n",
              "      <td>21900</td>\n",
              "      <td>11124</td>\n",
              "      <td>4429</td>\n",
              "      <td>2079</td>\n",
              "      <td>1193</td>\n",
              "      <td>686</td>\n",
              "      <td>330</td>\n",
              "      <td>35</td>\n",
              "    </tr>\n",
              "    <tr>\n",
              "      <th>57</th>\n",
              "      <td>34</td>\n",
              "      <td>3226</td>\n",
              "      <td>13685</td>\n",
              "      <td>11207</td>\n",
              "      <td>3976</td>\n",
              "      <td>1803</td>\n",
              "      <td>808</td>\n",
              "      <td>415</td>\n",
              "      <td>135</td>\n",
              "      <td>13</td>\n",
              "    </tr>\n",
              "    <tr>\n",
              "      <th>56</th>\n",
              "      <td>169</td>\n",
              "      <td>10829</td>\n",
              "      <td>21101</td>\n",
              "      <td>9958</td>\n",
              "      <td>4463</td>\n",
              "      <td>2305</td>\n",
              "      <td>1337</td>\n",
              "      <td>767</td>\n",
              "      <td>298</td>\n",
              "      <td>8</td>\n",
              "    </tr>\n",
              "  </tbody>\n",
              "</table>\n",
              "</div>"
            ],
            "text/plain": [
              "      0-30  30-60  60-90  90-120  ...  180-210  210-240  240-270  270-300\n",
              "year                              ...                                    \n",
              "64      53   4795  12634    6060  ...      698      338      140       15\n",
              "63      22   3084  14273    9341  ...      880      475      114       10\n",
              "62      63   5796  15610    7708  ...      730      429      129        4\n",
              "61      82   7119  16272    7348  ...      979      582      320       52\n",
              "60      28   4806  22046   15502  ...      932      563      199       24\n",
              "59     169  14904  28379    9171  ...      683      330       82        5\n",
              "58      57   7943  21900   11124  ...     1193      686      330       35\n",
              "57      34   3226  13685   11207  ...      808      415      135       13\n",
              "56     169  10829  21101    9958  ...     1337      767      298        8\n",
              "\n",
              "[9 rows x 10 columns]"
            ]
          },
          "metadata": {},
          "execution_count": 39
        }
      ]
    },
    {
      "cell_type": "code",
      "source": [
        "pat1_weight"
      ],
      "metadata": {
        "colab": {
          "base_uri": "https://localhost:8080/",
          "height": 363
        },
        "id": "wIqcqzFLvlTA",
        "outputId": "b2062d61-c173-40d0-b656-37f4168789ce"
      },
      "execution_count": null,
      "outputs": [
        {
          "output_type": "execute_result",
          "data": {
            "text/html": [
              "<div>\n",
              "<style scoped>\n",
              "    .dataframe tbody tr th:only-of-type {\n",
              "        vertical-align: middle;\n",
              "    }\n",
              "\n",
              "    .dataframe tbody tr th {\n",
              "        vertical-align: top;\n",
              "    }\n",
              "\n",
              "    .dataframe thead th {\n",
              "        text-align: right;\n",
              "    }\n",
              "</style>\n",
              "<table border=\"1\" class=\"dataframe\">\n",
              "  <thead>\n",
              "    <tr style=\"text-align: right;\">\n",
              "      <th></th>\n",
              "      <th>0-30</th>\n",
              "      <th>30-60</th>\n",
              "      <th>60-90</th>\n",
              "      <th>90-120</th>\n",
              "      <th>120-150</th>\n",
              "      <th>150-180</th>\n",
              "      <th>180-210</th>\n",
              "      <th>210-240</th>\n",
              "      <th>240-270</th>\n",
              "      <th>270-300</th>\n",
              "    </tr>\n",
              "    <tr>\n",
              "      <th>year</th>\n",
              "      <th></th>\n",
              "      <th></th>\n",
              "      <th></th>\n",
              "      <th></th>\n",
              "      <th></th>\n",
              "      <th></th>\n",
              "      <th></th>\n",
              "      <th></th>\n",
              "      <th></th>\n",
              "      <th></th>\n",
              "    </tr>\n",
              "  </thead>\n",
              "  <tbody>\n",
              "    <tr>\n",
              "      <th>64</th>\n",
              "      <td>675</td>\n",
              "      <td>11644</td>\n",
              "      <td>10126</td>\n",
              "      <td>3252</td>\n",
              "      <td>1309</td>\n",
              "      <td>571</td>\n",
              "      <td>272</td>\n",
              "      <td>132</td>\n",
              "      <td>67</td>\n",
              "      <td>26</td>\n",
              "    </tr>\n",
              "    <tr>\n",
              "      <th>63</th>\n",
              "      <td>4103</td>\n",
              "      <td>16814</td>\n",
              "      <td>7820</td>\n",
              "      <td>2150</td>\n",
              "      <td>921</td>\n",
              "      <td>559</td>\n",
              "      <td>343</td>\n",
              "      <td>206</td>\n",
              "      <td>149</td>\n",
              "      <td>82</td>\n",
              "    </tr>\n",
              "    <tr>\n",
              "      <th>62</th>\n",
              "      <td>9147</td>\n",
              "      <td>18210</td>\n",
              "      <td>4693</td>\n",
              "      <td>1262</td>\n",
              "      <td>591</td>\n",
              "      <td>316</td>\n",
              "      <td>158</td>\n",
              "      <td>76</td>\n",
              "      <td>30</td>\n",
              "      <td>10</td>\n",
              "    </tr>\n",
              "    <tr>\n",
              "      <th>61</th>\n",
              "      <td>8848</td>\n",
              "      <td>20846</td>\n",
              "      <td>5680</td>\n",
              "      <td>1111</td>\n",
              "      <td>454</td>\n",
              "      <td>217</td>\n",
              "      <td>108</td>\n",
              "      <td>51</td>\n",
              "      <td>24</td>\n",
              "      <td>8</td>\n",
              "    </tr>\n",
              "    <tr>\n",
              "      <th>60</th>\n",
              "      <td>17824</td>\n",
              "      <td>26014</td>\n",
              "      <td>4767</td>\n",
              "      <td>1088</td>\n",
              "      <td>444</td>\n",
              "      <td>234</td>\n",
              "      <td>132</td>\n",
              "      <td>74</td>\n",
              "      <td>28</td>\n",
              "      <td>18</td>\n",
              "    </tr>\n",
              "    <tr>\n",
              "      <th>59</th>\n",
              "      <td>4407</td>\n",
              "      <td>37465</td>\n",
              "      <td>13533</td>\n",
              "      <td>1611</td>\n",
              "      <td>505</td>\n",
              "      <td>215</td>\n",
              "      <td>88</td>\n",
              "      <td>37</td>\n",
              "      <td>14</td>\n",
              "      <td>4</td>\n",
              "    </tr>\n",
              "    <tr>\n",
              "      <th>58</th>\n",
              "      <td>6256</td>\n",
              "      <td>31928</td>\n",
              "      <td>10180</td>\n",
              "      <td>1042</td>\n",
              "      <td>240</td>\n",
              "      <td>83</td>\n",
              "      <td>33</td>\n",
              "      <td>9</td>\n",
              "      <td>4</td>\n",
              "      <td>1</td>\n",
              "    </tr>\n",
              "    <tr>\n",
              "      <th>57</th>\n",
              "      <td>3331</td>\n",
              "      <td>19686</td>\n",
              "      <td>9766</td>\n",
              "      <td>1655</td>\n",
              "      <td>544</td>\n",
              "      <td>215</td>\n",
              "      <td>78</td>\n",
              "      <td>20</td>\n",
              "      <td>5</td>\n",
              "      <td>2</td>\n",
              "    </tr>\n",
              "    <tr>\n",
              "      <th>56</th>\n",
              "      <td>17296</td>\n",
              "      <td>28548</td>\n",
              "      <td>4004</td>\n",
              "      <td>805</td>\n",
              "      <td>330</td>\n",
              "      <td>149</td>\n",
              "      <td>67</td>\n",
              "      <td>27</td>\n",
              "      <td>6</td>\n",
              "      <td>3</td>\n",
              "    </tr>\n",
              "  </tbody>\n",
              "</table>\n",
              "</div>"
            ],
            "text/plain": [
              "       0-30  30-60  60-90  90-120  ...  180-210  210-240  240-270  270-300\n",
              "year                               ...                                    \n",
              "64      675  11644  10126    3252  ...      272      132       67       26\n",
              "63     4103  16814   7820    2150  ...      343      206      149       82\n",
              "62     9147  18210   4693    1262  ...      158       76       30       10\n",
              "61     8848  20846   5680    1111  ...      108       51       24        8\n",
              "60    17824  26014   4767    1088  ...      132       74       28       18\n",
              "59     4407  37465  13533    1611  ...       88       37       14        4\n",
              "58     6256  31928  10180    1042  ...       33        9        4        1\n",
              "57     3331  19686   9766    1655  ...       78       20        5        2\n",
              "56    17296  28548   4004     805  ...       67       27        6        3\n",
              "\n",
              "[9 rows x 10 columns]"
            ]
          },
          "metadata": {},
          "execution_count": 40
        }
      ]
    },
    {
      "cell_type": "code",
      "source": [
        "gat_weight"
      ],
      "metadata": {
        "colab": {
          "base_uri": "https://localhost:8080/",
          "height": 363
        },
        "id": "js3nLbWkSYP9",
        "outputId": "09207e09-213f-4707-95d7-8a42d5f44262"
      },
      "execution_count": null,
      "outputs": [
        {
          "output_type": "execute_result",
          "data": {
            "text/html": [
              "<div>\n",
              "<style scoped>\n",
              "    .dataframe tbody tr th:only-of-type {\n",
              "        vertical-align: middle;\n",
              "    }\n",
              "\n",
              "    .dataframe tbody tr th {\n",
              "        vertical-align: top;\n",
              "    }\n",
              "\n",
              "    .dataframe thead th {\n",
              "        text-align: right;\n",
              "    }\n",
              "</style>\n",
              "<table border=\"1\" class=\"dataframe\">\n",
              "  <thead>\n",
              "    <tr style=\"text-align: right;\">\n",
              "      <th></th>\n",
              "      <th>0-30</th>\n",
              "      <th>30-60</th>\n",
              "      <th>60-90</th>\n",
              "      <th>90-120</th>\n",
              "      <th>120-150</th>\n",
              "      <th>150-180</th>\n",
              "      <th>180-210</th>\n",
              "      <th>210-240</th>\n",
              "      <th>240-270</th>\n",
              "      <th>270-300</th>\n",
              "    </tr>\n",
              "    <tr>\n",
              "      <th>year</th>\n",
              "      <th></th>\n",
              "      <th></th>\n",
              "      <th></th>\n",
              "      <th></th>\n",
              "      <th></th>\n",
              "      <th></th>\n",
              "      <th></th>\n",
              "      <th></th>\n",
              "      <th></th>\n",
              "      <th></th>\n",
              "    </tr>\n",
              "  </thead>\n",
              "  <tbody>\n",
              "    <tr>\n",
              "      <th>64</th>\n",
              "      <td>1076</td>\n",
              "      <td>4013</td>\n",
              "      <td>3550</td>\n",
              "      <td>4187</td>\n",
              "      <td>4005</td>\n",
              "      <td>3658</td>\n",
              "      <td>3510</td>\n",
              "      <td>2388</td>\n",
              "      <td>1327</td>\n",
              "      <td>360</td>\n",
              "    </tr>\n",
              "    <tr>\n",
              "      <th>63</th>\n",
              "      <td>805</td>\n",
              "      <td>3434</td>\n",
              "      <td>3237</td>\n",
              "      <td>3860</td>\n",
              "      <td>4878</td>\n",
              "      <td>6206</td>\n",
              "      <td>5453</td>\n",
              "      <td>3251</td>\n",
              "      <td>1664</td>\n",
              "      <td>359</td>\n",
              "    </tr>\n",
              "    <tr>\n",
              "      <th>62</th>\n",
              "      <td>711</td>\n",
              "      <td>3623</td>\n",
              "      <td>4412</td>\n",
              "      <td>4953</td>\n",
              "      <td>4560</td>\n",
              "      <td>4877</td>\n",
              "      <td>4959</td>\n",
              "      <td>3383</td>\n",
              "      <td>2243</td>\n",
              "      <td>772</td>\n",
              "    </tr>\n",
              "    <tr>\n",
              "      <th>61</th>\n",
              "      <td>1293</td>\n",
              "      <td>5591</td>\n",
              "      <td>3119</td>\n",
              "      <td>2908</td>\n",
              "      <td>3934</td>\n",
              "      <td>7033</td>\n",
              "      <td>7418</td>\n",
              "      <td>3898</td>\n",
              "      <td>1773</td>\n",
              "      <td>380</td>\n",
              "    </tr>\n",
              "    <tr>\n",
              "      <th>60</th>\n",
              "      <td>1499</td>\n",
              "      <td>7650</td>\n",
              "      <td>7655</td>\n",
              "      <td>7421</td>\n",
              "      <td>7754</td>\n",
              "      <td>8698</td>\n",
              "      <td>6434</td>\n",
              "      <td>2748</td>\n",
              "      <td>687</td>\n",
              "      <td>77</td>\n",
              "    </tr>\n",
              "    <tr>\n",
              "      <th>59</th>\n",
              "      <td>2322</td>\n",
              "      <td>10281</td>\n",
              "      <td>9626</td>\n",
              "      <td>9301</td>\n",
              "      <td>9504</td>\n",
              "      <td>7141</td>\n",
              "      <td>6020</td>\n",
              "      <td>2747</td>\n",
              "      <td>832</td>\n",
              "      <td>105</td>\n",
              "    </tr>\n",
              "    <tr>\n",
              "      <th>58</th>\n",
              "      <td>594</td>\n",
              "      <td>7466</td>\n",
              "      <td>8066</td>\n",
              "      <td>7382</td>\n",
              "      <td>6305</td>\n",
              "      <td>6142</td>\n",
              "      <td>7369</td>\n",
              "      <td>4409</td>\n",
              "      <td>1630</td>\n",
              "      <td>413</td>\n",
              "    </tr>\n",
              "    <tr>\n",
              "      <th>57</th>\n",
              "      <td>366</td>\n",
              "      <td>4370</td>\n",
              "      <td>3816</td>\n",
              "      <td>3876</td>\n",
              "      <td>4891</td>\n",
              "      <td>6656</td>\n",
              "      <td>6373</td>\n",
              "      <td>3361</td>\n",
              "      <td>1366</td>\n",
              "      <td>227</td>\n",
              "    </tr>\n",
              "    <tr>\n",
              "      <th>56</th>\n",
              "      <td>928</td>\n",
              "      <td>11160</td>\n",
              "      <td>10315</td>\n",
              "      <td>7728</td>\n",
              "      <td>6722</td>\n",
              "      <td>5853</td>\n",
              "      <td>4431</td>\n",
              "      <td>2534</td>\n",
              "      <td>1237</td>\n",
              "      <td>327</td>\n",
              "    </tr>\n",
              "  </tbody>\n",
              "</table>\n",
              "</div>"
            ],
            "text/plain": [
              "      0-30  30-60  60-90  90-120  ...  180-210  210-240  240-270  270-300\n",
              "year                              ...                                    \n",
              "64    1076   4013   3550    4187  ...     3510     2388     1327      360\n",
              "63     805   3434   3237    3860  ...     5453     3251     1664      359\n",
              "62     711   3623   4412    4953  ...     4959     3383     2243      772\n",
              "61    1293   5591   3119    2908  ...     7418     3898     1773      380\n",
              "60    1499   7650   7655    7421  ...     6434     2748      687       77\n",
              "59    2322  10281   9626    9301  ...     6020     2747      832      105\n",
              "58     594   7466   8066    7382  ...     7369     4409     1630      413\n",
              "57     366   4370   3816    3876  ...     6373     3361     1366      227\n",
              "56     928  11160  10315    7728  ...     4431     2534     1237      327\n",
              "\n",
              "[9 rows x 10 columns]"
            ]
          },
          "metadata": {},
          "execution_count": 41
        }
      ]
    },
    {
      "cell_type": "markdown",
      "source": [
        "**แผนภูมิแท่งเปรียบเทียบจำนวนนักเรียนทั้งหมดที่สอบ GAT, PAT1 กับ จำนวนนักเรียนที่สอบ Gat และ PAT3, PAT1 และ PAT3**\n",
        "\n",
        "![alt text](https://drive.google.com/uc?id=1Hagkc0HyGRbnO23wTQLGvnsd5j183ruD)"
      ],
      "metadata": {
        "id": "gdgDiLy-275L"
      }
    },
    {
      "cell_type": "markdown",
      "metadata": {
        "id": "aWTU_8nftUoo"
      },
      "source": [
        "## Function"
      ]
    },
    {
      "cell_type": "markdown",
      "metadata": {
        "id": "CAhPHd8TCHQJ"
      },
      "source": [
        "\n",
        "\n",
        "*range_score_interested(lower, upper, subject, year)*\n",
        "\n",
        "สร้าง list of tuple ที่มีสมาชิกเป็น (lower, lower+30, จำนวนคน) โดยที่ lower+30 <= upper\n",
        "```\n",
        "range_score_interested(150, 300, pat1_weight, 64) \n",
        ">> [(150, 180, 571), (180, 210, 272), (210, 240, 132), (240, 270, 67), (270, 300, 26)]\n",
        "```\n",
        "\n",
        "\n",
        "\n"
      ]
    },
    {
      "cell_type": "markdown",
      "metadata": {
        "id": "d0kjSze5CIt7"
      },
      "source": [
        "*random_data_by_weight(range_score_interested(lower, upper, subject, year))*\\\n",
        "สุ่มคะแนนในช่วงคะแนนต่างๆ ตามจำนวนนักเรียนในช่วงนั้นๆ แบบ Uniform([30n, 30(n+1)]) เมื่อ n เป็นสมาชิกของ {0,1, 2, ..., 9} \\\n",
        "ดังนั้น จะได้ว่านักเรียนแต่ละคนจะมีคะแนนเป็นของตัวเองคนละ 1 ครั้ง\n",
        "```\n",
        "rand_data_by_weight([(150, 180, 571), (180, 210, 272)])\n",
        ">> array([165, 157, 157, ..., 179, 180, 185, 182, ..., 210, 205])\n",
        "```"
      ]
    },
    {
      "cell_type": "markdown",
      "metadata": {
        "id": "IgwEsJTvCKFz"
      },
      "source": [
        "*shuffle()*\\\n",
        "สลับตำแหน่งข้อมูล เนื่องจากฟังก์ชัน random_data_by_weight จะสุ่มแบบเรียงลำดับจากน้อยไปมาก\n",
        "```\n",
        "pat1_rv = rand_data_by_weight(range_score_interested(0, 300, 'pat1_weight', 64))\n",
        "print(pat1_rv)\n",
        ">> [ 29  28  26 ... 296 279 276]\n",
        "np.random.shuffle(pat1_rv)\n",
        "print(pat1_rv)\n",
        ">> [ 44  61  93 ...  33  74 128]\n",
        "```"
      ]
    },
    {
      "cell_type": "markdown",
      "metadata": {
        "id": "IyRZ8vpiIhYL"
      },
      "source": [
        "*cal_enroll_score(year)*\\\n",
        "คำนวณผลรวมคะแนนโดยมีตัวคูณคะแนน PAT1:PAT3:GAT = 20:60:20\\\n",
        "คืนข้อมูลเป็นข้อมูลคะแนนรวมของนักเรียนที่สอบทั้ง PAT3, PAT1 และ GAT\\\n",
        "```\n",
        "cal_enroll_score(64)\n",
        ">> array([27220, 27060, 26520, ..., 16780, 16740, 16560])\n",
        "```\n"
      ]
    },
    {
      "cell_type": "markdown",
      "metadata": {
        "id": "5wRexWyHIiCo"
      },
      "source": [
        "*find_best_reject()*\\\n",
        "หาจำนวนคนที่สอบ PAT3 แต่ไม่ยื่นเข้าวิศวะจุฬา ที่ทำให้ MAE(Mean Absolute Error) ของ predictMinScore VS Minscore \n",
        "```\n",
        "find_best_reject()\n",
        ">> 978 (จำนวนคนที่จะไม่ยื่น)\n",
        "```"
      ]
    },
    {
      "cell_type": "code",
      "metadata": {
        "id": "Pq6OTyENlMVu"
      },
      "source": [
        "from collections import Counter\n",
        "import matplotlib.pyplot as plt\n",
        "\n",
        "def plot_bar(score_data):\n",
        "    \"\"\" Plot histogram for total score \"\"\"\n",
        "    histogram = Counter(min(score//1000*1000, 29000) for score in score_data)\n",
        "    plt.bar([lower_bound+500 for lower_bound in histogram.keys()], \n",
        "            histogram.values(), \n",
        "            1000, \n",
        "            edgecolor=(0,0,0)\n",
        "            )\n",
        "    plt.xlabel('total score intake to Chula ENG')\n",
        "    plt.ylabel('Number of people in inteval 1000')\n",
        "    plt.show()"
      ],
      "execution_count": null,
      "outputs": []
    },
    {
      "cell_type": "code",
      "metadata": {
        "id": "Q-Hsei7TkZaN"
      },
      "source": [
        "def range_score_interested(lower, upper, subject, year):\n",
        "    interval = [lower + (n*30) for n in range((upper-lower) // 30 + 1)]\n",
        "    rand_score = [(lower + n*30, lower+((n+1)*30), eval(subject)[str(lower+n*30)+'-'+str(lower+((n+1)*30))][year]) for n in range((upper-lower) // 30)]\n",
        "    return rand_score"
      ],
      "execution_count": null,
      "outputs": []
    },
    {
      "cell_type": "code",
      "metadata": {
        "id": "5fezg-6YYfPs"
      },
      "source": [
        "def rand_data_by_weight(data: list):\n",
        "    \"\"\" uniform random score with exact number of data in score range\"\"\"\n",
        "    collect_intvs = [np.random.randint(interval[0], interval[1], interval[2]) for interval in data]\n",
        "    return np.concatenate(collect_intvs)"
      ],
      "execution_count": null,
      "outputs": []
    },
    {
      "cell_type": "code",
      "metadata": {
        "id": "up5Z7B2zFWnW"
      },
      "source": [
        "def shuffle(pat1, pat3, gat):\n",
        "    \"\"\"shuffle data\"\"\"\n",
        "    np.random.shuffle(pat3)\n",
        "    np.random.shuffle(pat1)\n",
        "    np.random.shuffle(gat)\n",
        "    return pat1, pat3, gat"
      ],
      "execution_count": null,
      "outputs": []
    },
    {
      "cell_type": "code",
      "source": [
        "import matplotlib.pyplot as plt\n",
        "\n",
        "fig, axs = plt.subplots(2, 2, figsize=(8, 6), tight_layout=True)\n",
        "fig.tight_layout()\n",
        "gat_plot = rand_data_by_weight(range_score_interested(0, 300, 'gat', 64))\n",
        "pat1_plot = rand_data_by_weight(range_score_interested(0, 300, 'pat1', 64))\n",
        "pat1_weight_plot = rand_data_by_weight(range_score_interested(0, 300, 'pat1_weight', 64))\n",
        "gat_weight_plot = rand_data_by_weight(range_score_interested(0, 300, 'gat_weight', 64))\n",
        "plt.setp(axs, xticks=[x for x in range(0, 301, 30)])\n",
        "\n",
        "axs[0, 0].hist(gat_plot, edgecolor='black'), axs[0, 0].set_title('Number of student test GAT (2564)')\n",
        "axs[0, 1].hist(pat1_plot, edgecolor='black'), axs[0, 1].set_title('Number of student test PAT1 (2564)')\n",
        "axs[1, 0].hist(gat_weight_plot, edgecolor='black'), axs[1, 0].set_title('Number of student test GAT and PAT3 (2564)')\n",
        "axs[1, 1].hist(pat1_weight_plot, edgecolor='black'), axs[1, 1].set_title('Number of student test PAT1 and PAT3 (2564)')\n",
        "plt.show()"
      ],
      "metadata": {
        "id": "xvumHvhOGo35",
        "colab": {
          "base_uri": "https://localhost:8080/",
          "height": 441
        },
        "outputId": "64a6fbc3-a765-4438-f619-0595c0955f95"
      },
      "execution_count": null,
      "outputs": [
        {
          "output_type": "display_data",
          "data": {
            "image/png": "[encoded data removed]",
            "text/plain": [
              "<Figure size 576x432 with 4 Axes>"
            ]
          },
          "metadata": {
            "needs_background": "light"
          }
        }
      ]
    },
    {
      "cell_type": "code",
      "metadata": {
        "id": "ro-rGvScmDpw"
      },
      "source": [
        "def cal_enroll_score(year):\n",
        "    \"\"\" Calculate total score by weight PAT1:PAT3:GAT = 20:20:60 \"\"\"\n",
        "    pat1_rv = rand_data_by_weight(range_score_interested(0, 300, 'pat1_weight', year))\n",
        "    pat3_rv = rand_data_by_weight(range_score_interested(150, 300, 'pat3', year))\n",
        "    gat_rv = rand_data_by_weight(range_score_interested(180, 300, 'gat_weight', year))\n",
        "\n",
        "    pat1_rv = sorted(pat1_rv)[::-1][:1600]\n",
        "    pat3_rv = sorted(pat3_rv)[::-1][:1600]\n",
        "    pat1_rv, pat3_rv, gat_rv = shuffle(pat1_rv, pat3_rv, gat_rv)\n",
        "    min_num = min(len(pat1_rv), len(pat3_rv), len(gat_rv))\n",
        "\n",
        "    pat1_rv = np.array([pat1_rv[:min_num]]) * 20\n",
        "    gat_rv =  np.array([gat_rv[:min_num]]) * 20\n",
        "    pat3_rv =  np.array([pat3_rv[:min_num]]) * 60\n",
        "    enroll_score = np.sum(np.concatenate((pat3_rv, pat1_rv, gat_rv), axis=0), axis=0)\n",
        "    enroll_score = np.sort(enroll_score)[::-1]\n",
        "    return enroll_score"
      ],
      "execution_count": null,
      "outputs": []
    },
    {
      "cell_type": "code",
      "metadata": {
        "id": "hHvAx9yDC0oH"
      },
      "source": [
        "def find_best_reject():\n",
        "    \"\"\" error can be negative(less than real min score) and positive \"\"\"\n",
        "    years_err = []\n",
        "    min_n = min(1600-chula_df['intake'])\n",
        "    for year in range(56,65):\n",
        "        year_err = []\n",
        "        enroll_score = cal_enroll_score(year)\n",
        "        real_min, intake = chula_df['min_score'][year],  chula_df['intake'][year]\n",
        "        for reject in range(0, min_n+1):\n",
        "            reject_index = np.random.randint(0,  len(enroll_score), reject)\n",
        "            enroll_score_af_reject =  np.delete(enroll_score, reject_index)\n",
        "            pred_min =  enroll_score_af_reject[chula_df['intake'][year]]\n",
        "            err = abs(real_min-pred_min)\n",
        "            year_err.append(err)\n",
        "        years_err.append(year_err)\n",
        "    min_n_reject = min([len(data) for data in years_err])\n",
        "    data = np.array([year_err[:min_n_reject] for year_err in years_err])\n",
        "    return np.argmin(np.sum(data, axis=0)/(2564-2556+1))"
      ],
      "execution_count": null,
      "outputs": []
    },
    {
      "cell_type": "code",
      "metadata": {
        "id": "YAKlEARmc5Ax",
        "colab": {
          "base_uri": "https://localhost:8080/"
        },
        "outputId": "e7c341c0-8c33-45e9-8e19-a1d9e4f5e27c"
      },
      "source": [
        "# Central Limit Theorem\n",
        "n = np.round(np.mean([find_best_reject() for _ in range(50)]))\n",
        "n"
      ],
      "execution_count": null,
      "outputs": [
        {
          "output_type": "execute_result",
          "data": {
            "text/plain": [
              "980.0"
            ]
          },
          "metadata": {},
          "execution_count": 55
        }
      ]
    },
    {
      "cell_type": "code",
      "source": [
        "year = 64\n",
        "enroll_score = cal_enroll_score(year)\n",
        "i = np.random.randint(0,  len(enroll_score), 978)\n",
        "enroll_score_af_reject =  np.delete(enroll_score, i)\n",
        "plt.hist(enroll_score, edgecolor='Black', bins=[x*1000 for x in range(16, 31, 1)])\n",
        "plt.hist(enroll_score_af_reject, edgecolor='Black', bins=[x*1000 for x in range(16, 31, 1)])\n",
        "plt.legend(['Does not apply', 'Applying'])\n",
        "plt.xlabel('Point intervals')\n",
        "plt.ylabel('Number of students applying')\n",
        "plt.show()"
      ],
      "metadata": {
        "id": "zfr0r6JBC8zi",
        "colab": {
          "base_uri": "https://localhost:8080/",
          "height": 279
        },
        "outputId": "7c5cf31f-a894-4516-9445-ba2a5e56d731"
      },
      "execution_count": null,
      "outputs": [
        {
          "output_type": "display_data",
          "data": {
            "image/png": "[encoded data removed]",
            "text/plain": [
              "<Figure size 432x288 with 1 Axes>"
            ]
          },
          "metadata": {
            "needs_background": "light"
          }
        }
      ]
    },
    {
      "cell_type": "markdown",
      "metadata": {
        "id": "afGDsK8UYPdL"
      },
      "source": [
        "## Prediction"
      ]
    },
    {
      "cell_type": "code",
      "metadata": {
        "id": "I8dv2fdQcWV-"
      },
      "source": [
        "def predict():\n",
        "    data = {'year':[], 'predictMinScore':[], 'MinScore': [], 'error':[]}\n",
        "    \n",
        "    for year in range(64, 55, -1):\n",
        "        real_min = chula_df['min_score'][year]\n",
        "        enroll_score = cal_enroll_score(year)\n",
        "        # pos = np.random.randint(0,  len(enroll_score), n)\n",
        "        pos = np.random.randint(0,  len(enroll_score), 978)\n",
        "        enroll_score_rej = np.delete(enroll_score, pos)\n",
        "        min_score = int(enroll_score_rej[chula_df['intake'][year]])\n",
        "\n",
        "        data['year'].append(year)\n",
        "        data['predictMinScore'].append(np.round(min_score, 2))\n",
        "        data['MinScore'].append(np.round(real_min, 2))\n",
        "        data['error'].append(np.round(real_min-min_score, 2))\n",
        "    df = pd.DataFrame(data, columns=['year', 'predictMinScore', 'MinScore', 'error'])\n",
        "    return df"
      ],
      "execution_count": null,
      "outputs": []
    },
    {
      "cell_type": "code",
      "source": [
        "df = predict()\n",
        "df"
      ],
      "metadata": {
        "colab": {
          "base_uri": "https://localhost:8080/",
          "height": 331
        },
        "id": "fHs8A6fq9TyH",
        "outputId": "07baa900-05d1-427a-d4a5-83e8167b483a"
      },
      "execution_count": null,
      "outputs": [
        {
          "output_type": "execute_result",
          "data": {
            "text/html": [
              "<div>\n",
              "<style scoped>\n",
              "    .dataframe tbody tr th:only-of-type {\n",
              "        vertical-align: middle;\n",
              "    }\n",
              "\n",
              "    .dataframe tbody tr th {\n",
              "        vertical-align: top;\n",
              "    }\n",
              "\n",
              "    .dataframe thead th {\n",
              "        text-align: right;\n",
              "    }\n",
              "</style>\n",
              "<table border=\"1\" class=\"dataframe\">\n",
              "  <thead>\n",
              "    <tr style=\"text-align: right;\">\n",
              "      <th></th>\n",
              "      <th>year</th>\n",
              "      <th>predictMinScore</th>\n",
              "      <th>MinScore</th>\n",
              "      <th>error</th>\n",
              "    </tr>\n",
              "  </thead>\n",
              "  <tbody>\n",
              "    <tr>\n",
              "      <th>0</th>\n",
              "      <td>64</td>\n",
              "      <td>19820</td>\n",
              "      <td>18503</td>\n",
              "      <td>-1317</td>\n",
              "    </tr>\n",
              "    <tr>\n",
              "      <th>1</th>\n",
              "      <td>63</td>\n",
              "      <td>20280</td>\n",
              "      <td>19985</td>\n",
              "      <td>-295</td>\n",
              "    </tr>\n",
              "    <tr>\n",
              "      <th>2</th>\n",
              "      <td>62</td>\n",
              "      <td>19640</td>\n",
              "      <td>18360</td>\n",
              "      <td>-1280</td>\n",
              "    </tr>\n",
              "    <tr>\n",
              "      <th>3</th>\n",
              "      <td>61</td>\n",
              "      <td>19140</td>\n",
              "      <td>17030</td>\n",
              "      <td>-2110</td>\n",
              "    </tr>\n",
              "    <tr>\n",
              "      <th>4</th>\n",
              "      <td>60</td>\n",
              "      <td>18900</td>\n",
              "      <td>18870</td>\n",
              "      <td>-30</td>\n",
              "    </tr>\n",
              "    <tr>\n",
              "      <th>5</th>\n",
              "      <td>59</td>\n",
              "      <td>17720</td>\n",
              "      <td>17510</td>\n",
              "      <td>-210</td>\n",
              "    </tr>\n",
              "    <tr>\n",
              "      <th>6</th>\n",
              "      <td>58</td>\n",
              "      <td>19060</td>\n",
              "      <td>19090</td>\n",
              "      <td>30</td>\n",
              "    </tr>\n",
              "    <tr>\n",
              "      <th>7</th>\n",
              "      <td>57</td>\n",
              "      <td>18280</td>\n",
              "      <td>18552</td>\n",
              "      <td>272</td>\n",
              "    </tr>\n",
              "    <tr>\n",
              "      <th>8</th>\n",
              "      <td>56</td>\n",
              "      <td>19220</td>\n",
              "      <td>19100</td>\n",
              "      <td>-120</td>\n",
              "    </tr>\n",
              "  </tbody>\n",
              "</table>\n",
              "</div>"
            ],
            "text/plain": [
              "   year  predictMinScore  MinScore  error\n",
              "0    64            19820     18503  -1317\n",
              "1    63            20280     19985   -295\n",
              "2    62            19640     18360  -1280\n",
              "3    61            19140     17030  -2110\n",
              "4    60            18900     18870    -30\n",
              "5    59            17720     17510   -210\n",
              "6    58            19060     19090     30\n",
              "7    57            18280     18552    272\n",
              "8    56            19220     19100   -120"
            ]
          },
          "metadata": {},
          "execution_count": 77
        }
      ]
    },
    {
      "cell_type": "code",
      "metadata": {
        "id": "DG1-pMhYeYSg"
      },
      "source": [
        "# Central Limit Theorem\n",
        "df = predict() \n",
        "for i in range(50): \n",
        "    df = df.append(predict())"
      ],
      "execution_count": null,
      "outputs": []
    },
    {
      "cell_type": "code",
      "metadata": {
        "id": "0IOTd3jTvzzQ"
      },
      "source": [
        "# Find mean of PMS(predictMinScore) and mean of Error\n",
        "gb_year = df.groupby('year')\n",
        "df1 = gb_year['predictMinScore'].apply(list).reset_index(name='predictMinScore')\n",
        "df2 = gb_year['error'].apply(list).reset_index(name='error')\n",
        "result = df1.merge(df2)\n",
        "result = result.iloc[::-1].reset_index(drop=True)\n",
        "result['realMinScore'] = chula_df['min_score'].reset_index()['min_score']\n",
        "result['meanPMS'] = np.round(result['predictMinScore'].apply(np.mean).to_frame())\n",
        "result['meanError'] = np.round(result['error'].apply(np.mean).to_frame())"
      ],
      "execution_count": null,
      "outputs": []
    },
    {
      "cell_type": "markdown",
      "source": [
        "### ผลการทดลอง\n",
        "1. ได้ผลการทดลองดังตาราง จากผลของแต่ละปีมี error ไม่เกิน 7%  ยกเว้นปี 2561 เนื่องจาก 2561 มีการปรับเปลี่ยนการสอบโดยแบ่งเป็น 2 รอบ โดยมีรอบ 3.1 และ 3.2 และในรอบ 3.1 ผู้เข้าสอบ 1 คนสามารถยื่นได้ 4 คณะและมีสิทธิ์เลือกได้ทั้ง 4 คณะว่าจะเอาคณะไหน ทำให้เกิดปัญหา อย่างเช่น\n",
        "ผู้สมัครที่อยากเรียนแพทย์ซึ่งมีคะแนนที่สูงแต่ไม่มั่นใจว่าจะติดเลือกวิศวะจุฬาไว้เป็นตัวเลือกสำรอง ดังนั้นจึงทำให้ข้อมูลคะแนนขั้นต่ำที่ประกาศออกมาสูงมากทำให้ข้อมูลที่เราได้รับมามีค่า error ที่สูง \n",
        "2. เนื่องจาก ค่าทำนายส่วนใหญ่สูงกว่าค่าจริง และค่าทำนายที่ต่ำกว่าค่าจริงมีน้อย ในปี 2557 ค่าทำนายต่ำกว่าค่าต่ำสุดจริง เท่ากับ 316 คะแนน ซึ่งเป็นค่าทำนายที่ต่ำที่กว่าค่าจริงที่มี Error มากที่สุด\n",
        "    ดังนั้นหากทำนายหาค่า predictMinScore ปี 2565 จะได้ว่า\n",
        "นักเรียนที่มี คะแนน >= predictMinScore + 316 คะแนน มีโอกาสเข้าศึกคณะวิศวกรรมศาสตร์อย่างแน่นอนจากสถิติที่มี ณ ตอนนี้"
      ],
      "metadata": {
        "id": "9Jl9DFSfzSbf"
      }
    },
    {
      "cell_type": "code",
      "source": [
        "result[['year', 'realMinScore','meanPMS','meanError']]"
      ],
      "metadata": {
        "colab": {
          "base_uri": "https://localhost:8080/",
          "height": 331
        },
        "id": "HOMYmzpfCcDU",
        "outputId": "209b109a-5fa4-43e6-bccc-01a08d859bfa"
      },
      "execution_count": null,
      "outputs": [
        {
          "output_type": "execute_result",
          "data": {
            "text/html": [
              "<div>\n",
              "<style scoped>\n",
              "    .dataframe tbody tr th:only-of-type {\n",
              "        vertical-align: middle;\n",
              "    }\n",
              "\n",
              "    .dataframe tbody tr th {\n",
              "        vertical-align: top;\n",
              "    }\n",
              "\n",
              "    .dataframe thead th {\n",
              "        text-align: right;\n",
              "    }\n",
              "</style>\n",
              "<table border=\"1\" class=\"dataframe\">\n",
              "  <thead>\n",
              "    <tr style=\"text-align: right;\">\n",
              "      <th></th>\n",
              "      <th>year</th>\n",
              "      <th>realMinScore</th>\n",
              "      <th>meanPMS</th>\n",
              "      <th>meanError</th>\n",
              "    </tr>\n",
              "  </thead>\n",
              "  <tbody>\n",
              "    <tr>\n",
              "      <th>0</th>\n",
              "      <td>64</td>\n",
              "      <td>18503</td>\n",
              "      <td>19882.0</td>\n",
              "      <td>-1379.0</td>\n",
              "    </tr>\n",
              "    <tr>\n",
              "      <th>1</th>\n",
              "      <td>63</td>\n",
              "      <td>19985</td>\n",
              "      <td>20287.0</td>\n",
              "      <td>-302.0</td>\n",
              "    </tr>\n",
              "    <tr>\n",
              "      <th>2</th>\n",
              "      <td>62</td>\n",
              "      <td>18360</td>\n",
              "      <td>19469.0</td>\n",
              "      <td>-1109.0</td>\n",
              "    </tr>\n",
              "    <tr>\n",
              "      <th>3</th>\n",
              "      <td>61</td>\n",
              "      <td>17030</td>\n",
              "      <td>19202.0</td>\n",
              "      <td>-2172.0</td>\n",
              "    </tr>\n",
              "    <tr>\n",
              "      <th>4</th>\n",
              "      <td>60</td>\n",
              "      <td>18870</td>\n",
              "      <td>18882.0</td>\n",
              "      <td>-12.0</td>\n",
              "    </tr>\n",
              "    <tr>\n",
              "      <th>5</th>\n",
              "      <td>59</td>\n",
              "      <td>17510</td>\n",
              "      <td>17678.0</td>\n",
              "      <td>-168.0</td>\n",
              "    </tr>\n",
              "    <tr>\n",
              "      <th>6</th>\n",
              "      <td>58</td>\n",
              "      <td>19090</td>\n",
              "      <td>19036.0</td>\n",
              "      <td>54.0</td>\n",
              "    </tr>\n",
              "    <tr>\n",
              "      <th>7</th>\n",
              "      <td>57</td>\n",
              "      <td>18552</td>\n",
              "      <td>18251.0</td>\n",
              "      <td>301.0</td>\n",
              "    </tr>\n",
              "    <tr>\n",
              "      <th>8</th>\n",
              "      <td>56</td>\n",
              "      <td>19100</td>\n",
              "      <td>19256.0</td>\n",
              "      <td>-156.0</td>\n",
              "    </tr>\n",
              "  </tbody>\n",
              "</table>\n",
              "</div>"
            ],
            "text/plain": [
              "   year  realMinScore  meanPMS  meanError\n",
              "0    64         18503  19882.0    -1379.0\n",
              "1    63         19985  20287.0     -302.0\n",
              "2    62         18360  19469.0    -1109.0\n",
              "3    61         17030  19202.0    -2172.0\n",
              "4    60         18870  18882.0      -12.0\n",
              "5    59         17510  17678.0     -168.0\n",
              "6    58         19090  19036.0       54.0\n",
              "7    57         18552  18251.0      301.0\n",
              "8    56         19100  19256.0     -156.0"
            ]
          },
          "metadata": {},
          "execution_count": 80
        }
      ]
    }
  ]
}